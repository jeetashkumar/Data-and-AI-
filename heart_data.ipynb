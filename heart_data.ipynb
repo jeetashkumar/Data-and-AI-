{
  "nbformat": 4,
  "nbformat_minor": 0,
  "metadata": {
    "colab": {
      "provenance": [],
      "gpuType": "T4"
    },
    "kernelspec": {
      "name": "python3",
      "display_name": "Python 3"
    },
    "language_info": {
      "name": "python"
    },
    "accelerator": "GPU"
  },
  "cells": [
    {
      "cell_type": "code",
      "source": [],
      "metadata": {
        "id": "Teo7jNLE9hcv"
      },
      "execution_count": null,
      "outputs": []
    },
    {
      "cell_type": "code",
      "source": [
        "import os\n",
        "import cv2\n",
        "import numpy as np\n",
        "from sklearn.model_selection import train_test_split\n",
        "from sklearn.preprocessing import LabelEncoder\n",
        "from sklearn.svm import SVC\n",
        "from sklearn.ensemble import RandomForestClassifier\n",
        "from sklearn.metrics import classification_report\n",
        "from tensorflow.keras.models import Sequential\n",
        "from tensorflow.keras.layers import Conv2D, MaxPooling2D, Flatten, Dense\n"
      ],
      "metadata": {
        "id": "n0th_DjY_9G0"
      },
      "execution_count": null,
      "outputs": []
    },
    {
      "cell_type": "markdown",
      "source": [
        "# Load the datasets"
      ],
      "metadata": {
        "id": "e8YG3m8pC-no"
      }
    },
    {
      "cell_type": "code",
      "source": [
        "# Define the path to the dataset\n",
        "data_path = \"/content/drive/MyDrive/data\"\n",
        "heart_path = os.path.join(data_path, \"heart\")\n",
        "closed_path = os.path.join(heart_path, \"closed\")\n",
        "open_path = os.path.join(heart_path, \"open\")\n",
        "various_path = os.path.join(heart_path, \"various\")\n",
        "non_heart_path = os.path.join(data_path, \"non-heart\")\n"
      ],
      "metadata": {
        "id": "Aq5hiPzq_9KL"
      },
      "execution_count": null,
      "outputs": []
    },
    {
      "cell_type": "markdown",
      "source": [
        "# pre-process images"
      ],
      "metadata": {
        "id": "HVSREoQ4DDfV"
      }
    },
    {
      "cell_type": "code",
      "source": [
        "# Function to load and preprocess images\n",
        "def load_and_preprocess_images(folder):\n",
        "    images = []\n",
        "    labels = []\n",
        "    for filename in os.listdir(folder):\n",
        "        img_path = os.path.join(folder, filename)\n",
        "        img = cv2.imread(img_path)\n",
        "        if img is not None:\n",
        "            img = cv2.resize(img, (224, 224))  # Resize the image to 224x224\n",
        "            img = img.astype('float32') / 255.0  # Normalize pixel values to [0, 1]\n",
        "            images.append(img)\n",
        "            labels.append(os.path.basename(folder))\n",
        "    return images, labels\n"
      ],
      "metadata": {
        "id": "iZoH1Gqd_9Nb"
      },
      "execution_count": null,
      "outputs": []
    },
    {
      "cell_type": "code",
      "source": [
        "# Load and preprocess images from the heart folders\n",
        "closed_images, closed_labels = load_and_preprocess_images(closed_path)\n",
        "open_images, open_labels = load_and_preprocess_images(open_path)\n",
        "various_images, various_labels = load_and_preprocess_images(various_path)"
      ],
      "metadata": {
        "id": "eX6fiRRyAMQ0"
      },
      "execution_count": null,
      "outputs": []
    },
    {
      "cell_type": "code",
      "source": [
        "# Combine heart images and labels\n",
        "images = closed_images + open_images + various_images\n",
        "labels = closed_labels + open_labels + various_labels\n"
      ],
      "metadata": {
        "id": "ymaQ8ma7ARaT"
      },
      "execution_count": null,
      "outputs": []
    },
    {
      "cell_type": "code",
      "source": [
        "# Convert images and labels to NumPy arrays\n",
        "images = np.array(images)\n",
        "labels = np.array(labels)"
      ],
      "metadata": {
        "id": "AIeuJbqpAVz7"
      },
      "execution_count": null,
      "outputs": []
    },
    {
      "cell_type": "code",
      "source": [
        "# Encode labels\n",
        "le = LabelEncoder()\n",
        "labels = le.fit_transform(labels)"
      ],
      "metadata": {
        "id": "aZwDQOiYAZqo"
      },
      "execution_count": null,
      "outputs": []
    },
    {
      "cell_type": "code",
      "source": [
        "from sklearn.model_selection import train_test_split"
      ],
      "metadata": {
        "id": "M13UQfNeAwX5"
      },
      "execution_count": null,
      "outputs": []
    },
    {
      "cell_type": "code",
      "source": [
        "print(f\"Number of unique labels: {len(set(labels))}\")\n",
        "print(f\"Number of data points: {len(labels)}\")"
      ],
      "metadata": {
        "colab": {
          "base_uri": "https://localhost:8080/"
        },
        "id": "vefvkFDaA7VG",
        "outputId": "4b6eb4cc-ca7b-488c-d601-71b507d3819a"
      },
      "execution_count": null,
      "outputs": [
        {
          "output_type": "stream",
          "name": "stdout",
          "text": [
            "Number of unique labels: 3\n",
            "Number of data points: 219\n"
          ]
        }
      ]
    },
    {
      "cell_type": "code",
      "source": [
        "# Split the dataset into training and testing sets without stratification\n",
        "X_train, X_test, y_train, y_test = train_test_split(images, labels, test_size=0.2, random_state=42)\n"
      ],
      "metadata": {
        "id": "8yiesaUwAdye"
      },
      "execution_count": null,
      "outputs": []
    },
    {
      "cell_type": "code",
      "source": [
        "# Train non-neural network classifier (SVM)\n",
        "svm_model = SVC()\n",
        "svm_model.fit(X_train.reshape(X_train.shape[0], -1), y_train)\n",
        "\n",
        "# Train non-neural network classifier (Random Forest)\n",
        "rf_model = RandomForestClassifier()\n",
        "rf_model.fit(X_train.reshape(X_train.shape[0], -1), y_train)\n",
        "\n",
        "# Train neural network classifier\n",
        "input_shape = (224, 224, 3)  # Assuming images are color images\n",
        "model = Sequential([\n",
        "    Conv2D(32, (3, 3), activation='relu', input_shape=input_shape),\n",
        "    MaxPooling2D((2, 2)),\n",
        "    Flatten(),\n",
        "    Dense(64, activation='relu'),\n",
        "    Dense(1, activation='sigmoid')\n",
        "])\n",
        "\n",
        "model.compile(optimizer='adam', loss='binary_crossentropy', metrics=['accuracy'])\n",
        "model.fit(X_train, y_train, epochs=10)"
      ],
      "metadata": {
        "colab": {
          "base_uri": "https://localhost:8080/"
        },
        "id": "KIu64_5NAh4X",
        "outputId": "28fcec64-5956-43a7-cb1b-db8a79e788ae"
      },
      "execution_count": null,
      "outputs": [
        {
          "output_type": "stream",
          "name": "stdout",
          "text": [
            "Epoch 1/10\n",
            "6/6 [==============================] - 1s 35ms/step - loss: 4.3087 - accuracy: 0.5086\n",
            "Epoch 2/10\n",
            "6/6 [==============================] - 0s 32ms/step - loss: 0.9113 - accuracy: 0.6971\n",
            "Epoch 3/10\n",
            "6/6 [==============================] - 0s 31ms/step - loss: 0.3077 - accuracy: 0.8571\n",
            "Epoch 4/10\n",
            "6/6 [==============================] - 0s 31ms/step - loss: 0.1664 - accuracy: 0.9371\n",
            "Epoch 5/10\n",
            "6/6 [==============================] - 0s 32ms/step - loss: 0.0963 - accuracy: 0.9600\n",
            "Epoch 6/10\n",
            "6/6 [==============================] - 0s 32ms/step - loss: 0.0715 - accuracy: 0.9600\n",
            "Epoch 7/10\n",
            "6/6 [==============================] - 0s 32ms/step - loss: 0.1022 - accuracy: 0.9257\n",
            "Epoch 8/10\n",
            "6/6 [==============================] - 0s 31ms/step - loss: 0.0851 - accuracy: 0.9371\n",
            "Epoch 9/10\n",
            "6/6 [==============================] - 0s 31ms/step - loss: 0.0477 - accuracy: 0.9657\n",
            "Epoch 10/10\n",
            "6/6 [==============================] - 0s 30ms/step - loss: 0.0045 - accuracy: 0.9714\n"
          ]
        },
        {
          "output_type": "execute_result",
          "data": {
            "text/plain": [
              "<keras.src.callbacks.History at 0x7c3f282a3b80>"
            ]
          },
          "metadata": {},
          "execution_count": 50
        }
      ]
    },
    {
      "cell_type": "code",
      "source": [
        "# Evaluate models\n",
        "svm_predictions = svm_model.predict(X_test.reshape(X_test.shape[0], -1))\n",
        "rf_predictions = rf_model.predict(X_test.reshape(X_test.shape[0], -1))\n",
        "# Predict probabilities for each class\n",
        "nn_probabilities = model.predict(X_test)\n",
        "\n",
        "# Convert probabilities to class labels\n",
        "nn_predictions = np.argmax(nn_probabilities, axis=1)\n"
      ],
      "metadata": {
        "colab": {
          "base_uri": "https://localhost:8080/"
        },
        "id": "PbY9U4EpBZyM",
        "outputId": "bf110858-8642-4ed2-b67a-cff965a9d02b"
      },
      "execution_count": null,
      "outputs": [
        {
          "output_type": "stream",
          "name": "stdout",
          "text": [
            "2/2 [==============================] - 0s 9ms/step\n"
          ]
        }
      ]
    },
    {
      "cell_type": "markdown",
      "source": [
        "# SVM Classification"
      ],
      "metadata": {
        "id": "UsfSVJ_pCj20"
      }
    },
    {
      "cell_type": "code",
      "source": [
        "print(\"SVM Classification Report:\")\n",
        "print(classification_report(y_test, svm_predictions))"
      ],
      "metadata": {
        "colab": {
          "base_uri": "https://localhost:8080/"
        },
        "id": "_TsEnWHXBZ_H",
        "outputId": "11970837-5bbb-4054-d9fc-efd88e9d66c5"
      },
      "execution_count": null,
      "outputs": [
        {
          "output_type": "stream",
          "name": "stdout",
          "text": [
            "SVM Classification Report:\n",
            "              precision    recall  f1-score   support\n",
            "\n",
            "           0       0.92      1.00      0.96        12\n",
            "           1       1.00      0.97      0.98        32\n",
            "\n",
            "    accuracy                           0.98        44\n",
            "   macro avg       0.96      0.98      0.97        44\n",
            "weighted avg       0.98      0.98      0.98        44\n",
            "\n"
          ]
        }
      ]
    },
    {
      "cell_type": "markdown",
      "source": [
        "# Random Forest Classification"
      ],
      "metadata": {
        "id": "BraWqw-0CpP-"
      }
    },
    {
      "cell_type": "code",
      "source": [
        "print(\"Random Forest Classification Report:\")\n",
        "print(classification_report(y_test, rf_predictions))"
      ],
      "metadata": {
        "colab": {
          "base_uri": "https://localhost:8080/"
        },
        "id": "LAzx9IowCdIW",
        "outputId": "ada10d6b-2723-4687-dd63-649c3770fdb3"
      },
      "execution_count": null,
      "outputs": [
        {
          "output_type": "stream",
          "name": "stdout",
          "text": [
            "Random Forest Classification Report:\n",
            "              precision    recall  f1-score   support\n",
            "\n",
            "           0       0.92      1.00      0.96        12\n",
            "           1       1.00      0.97      0.98        32\n",
            "\n",
            "    accuracy                           0.98        44\n",
            "   macro avg       0.96      0.98      0.97        44\n",
            "weighted avg       0.98      0.98      0.98        44\n",
            "\n"
          ]
        }
      ]
    },
    {
      "cell_type": "markdown",
      "source": [
        "# Neural Network Classification"
      ],
      "metadata": {
        "id": "wZ-_DbVUCt4u"
      }
    },
    {
      "cell_type": "code",
      "source": [
        "print(\"Neural Network Classification Report:\")\n",
        "print(classification_report(y_test, nn_predictions))"
      ],
      "metadata": {
        "colab": {
          "base_uri": "https://localhost:8080/"
        },
        "id": "CLmBQgnwCh2_",
        "outputId": "15fa010b-d68a-460f-e4d7-4d620f515b65"
      },
      "execution_count": null,
      "outputs": [
        {
          "output_type": "stream",
          "name": "stdout",
          "text": [
            "Neural Network Classification Report:\n",
            "              precision    recall  f1-score   support\n",
            "\n",
            "           0       0.27      1.00      0.43        12\n",
            "           1       0.00      0.00      0.00        32\n",
            "\n",
            "    accuracy                           0.27        44\n",
            "   macro avg       0.14      0.50      0.21        44\n",
            "weighted avg       0.07      0.27      0.12        44\n",
            "\n"
          ]
        },
        {
          "output_type": "stream",
          "name": "stderr",
          "text": [
            "/usr/local/lib/python3.10/dist-packages/sklearn/metrics/_classification.py:1344: UndefinedMetricWarning: Precision and F-score are ill-defined and being set to 0.0 in labels with no predicted samples. Use `zero_division` parameter to control this behavior.\n",
            "  _warn_prf(average, modifier, msg_start, len(result))\n",
            "/usr/local/lib/python3.10/dist-packages/sklearn/metrics/_classification.py:1344: UndefinedMetricWarning: Precision and F-score are ill-defined and being set to 0.0 in labels with no predicted samples. Use `zero_division` parameter to control this behavior.\n",
            "  _warn_prf(average, modifier, msg_start, len(result))\n",
            "/usr/local/lib/python3.10/dist-packages/sklearn/metrics/_classification.py:1344: UndefinedMetricWarning: Precision and F-score are ill-defined and being set to 0.0 in labels with no predicted samples. Use `zero_division` parameter to control this behavior.\n",
            "  _warn_prf(average, modifier, msg_start, len(result))\n"
          ]
        }
      ]
    },
    {
      "cell_type": "markdown",
      "source": [
        "# point - 1"
      ],
      "metadata": {
        "id": "qb46BpcmDOWV"
      }
    },
    {
      "cell_type": "code",
      "source": [
        "from sklearn.model_selection import StratifiedKFold\n",
        "from keras.preprocessing.image import ImageDataGenerator"
      ],
      "metadata": {
        "id": "nO0-C02dDNbV"
      },
      "execution_count": null,
      "outputs": []
    },
    {
      "cell_type": "markdown",
      "source": [
        "# data augmentation"
      ],
      "metadata": {
        "id": "MSuicoz0FBPb"
      }
    },
    {
      "cell_type": "code",
      "source": [
        "# Initialize ImageDataGenerator for data augmentation\n",
        "datagen = ImageDataGenerator(\n",
        "    rotation_range=20,\n",
        "    width_shift_range=0.2,\n",
        "    height_shift_range=0.2,\n",
        "    shear_range=0.2,\n",
        "    zoom_range=0.2,\n",
        "    horizontal_flip=True,\n",
        "    fill_mode='nearest')\n"
      ],
      "metadata": {
        "id": "T5gWjP_iDNlr"
      },
      "execution_count": null,
      "outputs": []
    },
    {
      "cell_type": "markdown",
      "source": [
        "# 5-fold cross-validation"
      ],
      "metadata": {
        "id": "NeAvKthnFFAJ"
      }
    },
    {
      "cell_type": "code",
      "source": [
        "# Perform 5-fold cross-validation\n",
        "skf = StratifiedKFold(n_splits=5, shuffle=True, random_state=42)\n",
        "for train_index, test_index in skf.split(images, labels):\n",
        "    X_train, X_test = images[train_index], images[test_index]\n",
        "    y_train, y_test = labels[train_index], labels[test_index]\n",
        "\n",
        "    # Apply data augmentation\n",
        "    train_generator = datagen.flow(X_train, y_train, batch_size=32)\n",
        "\n",
        "    # Train the model\n",
        "    model.fit(train_generator, epochs=10)\n",
        "\n",
        "    # Evaluate the model\n",
        "    scores = model.evaluate(X_test, y_test)\n",
        "    print(f\"Test loss: {scores[0]}, Test accuracy: {scores[1]}\")\n"
      ],
      "metadata": {
        "colab": {
          "base_uri": "https://localhost:8080/"
        },
        "id": "e-SRkzlkDNo6",
        "outputId": "8d38b91e-40c2-4b8c-c62c-c0ccf9b19330"
      },
      "execution_count": null,
      "outputs": [
        {
          "output_type": "stream",
          "name": "stderr",
          "text": [
            "/usr/local/lib/python3.10/dist-packages/sklearn/model_selection/_split.py:700: UserWarning: The least populated class in y has only 1 members, which is less than n_splits=5.\n",
            "  warnings.warn(\n"
          ]
        },
        {
          "output_type": "stream",
          "name": "stdout",
          "text": [
            "Epoch 1/10\n",
            "6/6 [==============================] - 2s 299ms/step - loss: 1.2589 - accuracy: 0.5143\n",
            "Epoch 2/10\n",
            "6/6 [==============================] - 3s 550ms/step - loss: 0.7166 - accuracy: 0.6457\n",
            "Epoch 3/10\n",
            "6/6 [==============================] - 2s 302ms/step - loss: 0.6622 - accuracy: 0.6400\n",
            "Epoch 4/10\n",
            "6/6 [==============================] - 2s 292ms/step - loss: 0.6600 - accuracy: 0.6343\n",
            "Epoch 5/10\n",
            "6/6 [==============================] - 2s 300ms/step - loss: 0.6498 - accuracy: 0.6286\n",
            "Epoch 6/10\n",
            "6/6 [==============================] - 2s 335ms/step - loss: 0.6509 - accuracy: 0.6286\n",
            "Epoch 7/10\n",
            "6/6 [==============================] - 3s 598ms/step - loss: 0.6415 - accuracy: 0.6286\n",
            "Epoch 8/10\n",
            "6/6 [==============================] - 2s 299ms/step - loss: 0.6587 - accuracy: 0.6286\n",
            "Epoch 9/10\n",
            "6/6 [==============================] - 2s 303ms/step - loss: 0.6481 - accuracy: 0.6286\n",
            "Epoch 10/10\n",
            "6/6 [==============================] - 2s 294ms/step - loss: 0.6398 - accuracy: 0.6229\n",
            "2/2 [==============================] - 0s 12ms/step - loss: 0.3975 - accuracy: 0.9545\n",
            "Test loss: 0.39747247099876404, Test accuracy: 0.9545454382896423\n",
            "Epoch 1/10\n",
            "6/6 [==============================] - 2s 295ms/step - loss: 0.6334 - accuracy: 0.6286\n",
            "Epoch 2/10\n",
            "6/6 [==============================] - 2s 387ms/step - loss: 0.6369 - accuracy: 0.6286\n",
            "Epoch 3/10\n",
            "6/6 [==============================] - 3s 509ms/step - loss: 0.6270 - accuracy: 0.6343\n",
            "Epoch 4/10\n",
            "6/6 [==============================] - 2s 397ms/step - loss: 0.6219 - accuracy: 0.6343\n",
            "Epoch 5/10\n",
            "6/6 [==============================] - 2s 336ms/step - loss: 0.6235 - accuracy: 0.6571\n",
            "Epoch 6/10\n",
            "6/6 [==============================] - 2s 300ms/step - loss: 0.6370 - accuracy: 0.6457\n",
            "Epoch 7/10\n",
            "6/6 [==============================] - 2s 352ms/step - loss: 0.6227 - accuracy: 0.6457\n",
            "Epoch 8/10\n",
            "6/6 [==============================] - 4s 684ms/step - loss: 0.6286 - accuracy: 0.6400\n",
            "Epoch 9/10\n",
            "6/6 [==============================] - 2s 299ms/step - loss: 0.6357 - accuracy: 0.6343\n",
            "Epoch 10/10\n",
            "6/6 [==============================] - 2s 293ms/step - loss: 0.6098 - accuracy: 0.6400\n",
            "2/2 [==============================] - 0s 12ms/step - loss: 0.3315 - accuracy: 1.0000\n",
            "Test loss: 0.3315091133117676, Test accuracy: 1.0\n",
            "Epoch 1/10\n",
            "6/6 [==============================] - 2s 297ms/step - loss: 0.6074 - accuracy: 0.6629\n",
            "Epoch 2/10\n",
            "6/6 [==============================] - 2s 336ms/step - loss: 0.6006 - accuracy: 0.6743\n",
            "Epoch 3/10\n",
            "6/6 [==============================] - 3s 569ms/step - loss: 0.6323 - accuracy: 0.6571\n",
            "Epoch 4/10\n",
            "6/6 [==============================] - 2s 290ms/step - loss: 0.6228 - accuracy: 0.6971\n",
            "Epoch 5/10\n",
            "6/6 [==============================] - 2s 334ms/step - loss: 0.6055 - accuracy: 0.7029\n",
            "Epoch 6/10\n",
            "6/6 [==============================] - 2s 302ms/step - loss: 0.6032 - accuracy: 0.6229\n",
            "Epoch 7/10\n",
            "6/6 [==============================] - 2s 300ms/step - loss: 0.6081 - accuracy: 0.6400\n",
            "Epoch 8/10\n",
            "6/6 [==============================] - 3s 524ms/step - loss: 0.6176 - accuracy: 0.6571\n",
            "Epoch 9/10\n",
            "6/6 [==============================] - 2s 304ms/step - loss: 0.6159 - accuracy: 0.6457\n",
            "Epoch 10/10\n",
            "6/6 [==============================] - 2s 338ms/step - loss: 0.6075 - accuracy: 0.6571\n",
            "2/2 [==============================] - 0s 11ms/step - loss: 0.2633 - accuracy: 0.9773\n",
            "Test loss: 0.263262003660202, Test accuracy: 0.9772727489471436\n",
            "Epoch 1/10\n",
            "6/6 [==============================] - 2s 338ms/step - loss: 0.5804 - accuracy: 0.6686\n",
            "Epoch 2/10\n",
            "6/6 [==============================] - 2s 299ms/step - loss: 0.5853 - accuracy: 0.6686\n",
            "Epoch 3/10\n",
            "6/6 [==============================] - 3s 551ms/step - loss: 0.5826 - accuracy: 0.7200\n",
            "Epoch 4/10\n",
            "6/6 [==============================] - 3s 370ms/step - loss: 0.6102 - accuracy: 0.6457\n",
            "Epoch 5/10\n",
            "6/6 [==============================] - 2s 331ms/step - loss: 0.5879 - accuracy: 0.6971\n",
            "Epoch 6/10\n",
            "6/6 [==============================] - 2s 304ms/step - loss: 0.6133 - accuracy: 0.6457\n",
            "Epoch 7/10\n",
            "6/6 [==============================] - 2s 296ms/step - loss: 0.5664 - accuracy: 0.7086\n",
            "Epoch 8/10\n",
            "6/6 [==============================] - 2s 298ms/step - loss: 0.5512 - accuracy: 0.7143\n",
            "Epoch 9/10\n",
            "6/6 [==============================] - 2s 372ms/step - loss: 0.6150 - accuracy: 0.6457\n",
            "Epoch 10/10\n",
            "6/6 [==============================] - 3s 488ms/step - loss: 0.5691 - accuracy: 0.7371\n",
            "2/2 [==============================] - 0s 13ms/step - loss: 0.1206 - accuracy: 0.9545\n",
            "Test loss: 0.12062244117259979, Test accuracy: 0.9545454382896423\n",
            "Epoch 1/10\n",
            "6/6 [==============================] - 2s 307ms/step - loss: 0.5516 - accuracy: 0.7216\n",
            "Epoch 2/10\n",
            "6/6 [==============================] - 2s 303ms/step - loss: 0.5576 - accuracy: 0.6420\n",
            "Epoch 3/10\n",
            "6/6 [==============================] - 2s 306ms/step - loss: 0.5440 - accuracy: 0.7102\n",
            "Epoch 4/10\n",
            "6/6 [==============================] - 3s 510ms/step - loss: 0.6004 - accuracy: 0.6477\n",
            "Epoch 5/10\n",
            "6/6 [==============================] - 2s 303ms/step - loss: 0.5510 - accuracy: 0.7159\n",
            "Epoch 6/10\n",
            "6/6 [==============================] - 2s 303ms/step - loss: 0.5553 - accuracy: 0.7330\n",
            "Epoch 7/10\n",
            "6/6 [==============================] - 2s 340ms/step - loss: 0.5986 - accuracy: 0.6705\n",
            "Epoch 8/10\n",
            "6/6 [==============================] - 2s 304ms/step - loss: 0.5138 - accuracy: 0.7727\n",
            "Epoch 9/10\n",
            "6/6 [==============================] - 3s 577ms/step - loss: 0.5517 - accuracy: 0.7216\n",
            "Epoch 10/10\n",
            "6/6 [==============================] - 2s 380ms/step - loss: 0.5137 - accuracy: 0.6761\n",
            "2/2 [==============================] - 0s 12ms/step - loss: 0.2348 - accuracy: 0.9535\n",
            "Test loss: 0.23483121395111084, Test accuracy: 0.9534883499145508\n"
          ]
        }
      ]
    },
    {
      "cell_type": "code",
      "source": [],
      "metadata": {
        "id": "kUXzLibqWK0h"
      },
      "execution_count": null,
      "outputs": []
    },
    {
      "cell_type": "markdown",
      "source": [
        "# 2."
      ],
      "metadata": {
        "id": "bPDN9mLXXMeC"
      }
    },
    {
      "cell_type": "code",
      "source": [
        "import os\n",
        "import cv2\n",
        "import numpy as np\n",
        "from sklearn.model_selection import train_test_split\n",
        "from sklearn.preprocessing import LabelEncoder\n",
        "from sklearn.metrics import classification_report, confusion_matrix\n",
        "from tensorflow.keras.models import Sequential\n",
        "from tensorflow.keras.layers import Dense, Flatten, Conv2D, MaxPooling2D\n",
        "from tensorflow.keras.optimizers import Adam"
      ],
      "metadata": {
        "id": "xvk9wc2MWLMD"
      },
      "execution_count": null,
      "outputs": []
    },
    {
      "cell_type": "code",
      "source": [
        "# Function to load and preprocess images\n",
        "def load_and_preprocess_images(folder):\n",
        "    images = []\n",
        "    labels = []\n",
        "    for filename in os.listdir(folder):\n",
        "        img_path = os.path.join(folder, filename)\n",
        "        img = cv2.imread(img_path)\n",
        "        if img is not None:\n",
        "            img = cv2.resize(img, (224, 224))  # Resize the image to 224x224\n",
        "            img = img.astype('float32') / 255.0  # Normalize pixel values to [0, 1]\n",
        "            images.append(img)\n",
        "            labels.append(os.path.basename(folder))\n",
        "    return images, labels"
      ],
      "metadata": {
        "id": "_NefAi9vWLPu"
      },
      "execution_count": null,
      "outputs": []
    },
    {
      "cell_type": "code",
      "source": [
        "# Define the paths to the heart dataset\n",
        "data_path = \"/content/drive/MyDrive/data\"\n",
        "heart_path = os.path.join(data_path, \"heart\")\n",
        "closed_path = os.path.join(heart_path, \"closed\")\n",
        "open_path = os.path.join(heart_path, \"open\")\n",
        "various_path = os.path.join(heart_path, \"various\")"
      ],
      "metadata": {
        "id": "azkb4dlFWLSH"
      },
      "execution_count": null,
      "outputs": []
    },
    {
      "cell_type": "code",
      "source": [
        "# Load and preprocess images from the heart folders\n",
        "closed_images, closed_labels = load_and_preprocess_images(closed_path)\n",
        "open_images, open_labels = load_and_preprocess_images(open_path)\n",
        "various_images, various_labels = load_and_preprocess_images(various_path)"
      ],
      "metadata": {
        "id": "3Fz1rm6lWXxF"
      },
      "execution_count": null,
      "outputs": []
    },
    {
      "cell_type": "code",
      "source": [
        "# Combine heart images and labels\n",
        "images = closed_images + open_images + various_images\n",
        "labels = closed_labels + open_labels + various_labels\n",
        "\n",
        "# Convert images and labels to NumPy arrays\n",
        "images = np.array(images)\n",
        "labels = np.array(labels)\n",
        "\n",
        "# Encode labels\n",
        "le = LabelEncoder()\n",
        "labels = le.fit_transform(labels)"
      ],
      "metadata": {
        "id": "F1rWp-3DWcER"
      },
      "execution_count": null,
      "outputs": []
    },
    {
      "cell_type": "code",
      "source": [
        "# Split the dataset into training and testing sets without stratification\n",
        "X_train, X_test, y_train, y_test = train_test_split(images, labels, test_size=0.2, random_state=42)\n"
      ],
      "metadata": {
        "id": "9qEHhFCjWgRq"
      },
      "execution_count": null,
      "outputs": []
    },
    {
      "cell_type": "code",
      "source": [
        "# Define the model architecture\n",
        "model = Sequential([\n",
        "    Conv2D(32, (3, 3), activation='relu', input_shape=(224, 224, 3)),\n",
        "    MaxPooling2D((2, 2)),\n",
        "    Conv2D(64, (3, 3), activation='relu'),\n",
        "    MaxPooling2D((2, 2)),\n",
        "    Flatten(),\n",
        "    Dense(128, activation='relu'),\n",
        "    Dense(3, activation='softmax')\n",
        "])\n"
      ],
      "metadata": {
        "id": "Hax5v8hLWj9C"
      },
      "execution_count": null,
      "outputs": []
    },
    {
      "cell_type": "code",
      "source": [
        "# Compile the model\n",
        "model.compile(optimizer=Adam(), loss='sparse_categorical_crossentropy', metrics=['accuracy'])"
      ],
      "metadata": {
        "id": "7ulx2N5nWm-5"
      },
      "execution_count": null,
      "outputs": []
    },
    {
      "cell_type": "code",
      "source": [
        "# Train the model\n",
        "model.fit(X_train, y_train, epochs=10, validation_split=0.2)\n"
      ],
      "metadata": {
        "colab": {
          "base_uri": "https://localhost:8080/"
        },
        "id": "2wvp6BfqWo_9",
        "outputId": "b106455f-8a0c-4440-b2a1-61504196686b"
      },
      "execution_count": null,
      "outputs": [
        {
          "output_type": "stream",
          "name": "stdout",
          "text": [
            "Epoch 1/10\n",
            "5/5 [==============================] - 33s 7s/step - loss: 1.1811 - accuracy: 0.5714 - val_loss: 0.7619 - val_accuracy: 0.6571\n",
            "Epoch 2/10\n",
            "5/5 [==============================] - 15s 3s/step - loss: 0.4596 - accuracy: 0.7714 - val_loss: 0.5762 - val_accuracy: 0.8857\n",
            "Epoch 3/10\n",
            "5/5 [==============================] - 15s 3s/step - loss: 0.2747 - accuracy: 0.9143 - val_loss: 0.7098 - val_accuracy: 0.8571\n",
            "Epoch 4/10\n",
            "5/5 [==============================] - 15s 3s/step - loss: 0.1387 - accuracy: 0.9500 - val_loss: 0.8884 - val_accuracy: 0.8857\n",
            "Epoch 5/10\n",
            "5/5 [==============================] - 15s 3s/step - loss: 0.0969 - accuracy: 0.9643 - val_loss: 0.9952 - val_accuracy: 0.9143\n",
            "Epoch 6/10\n",
            "5/5 [==============================] - 15s 3s/step - loss: 0.0656 - accuracy: 0.9857 - val_loss: 1.1764 - val_accuracy: 0.8857\n",
            "Epoch 7/10\n",
            "5/5 [==============================] - 14s 3s/step - loss: 0.0470 - accuracy: 0.9857 - val_loss: 1.2218 - val_accuracy: 0.9143\n",
            "Epoch 8/10\n",
            "5/5 [==============================] - 14s 3s/step - loss: 0.0259 - accuracy: 0.9929 - val_loss: 1.3119 - val_accuracy: 0.9143\n",
            "Epoch 9/10\n",
            "5/5 [==============================] - 13s 3s/step - loss: 0.0394 - accuracy: 0.9714 - val_loss: 1.4101 - val_accuracy: 0.8857\n",
            "Epoch 10/10\n",
            "5/5 [==============================] - 13s 2s/step - loss: 0.0352 - accuracy: 0.9857 - val_loss: 1.2999 - val_accuracy: 0.9143\n"
          ]
        },
        {
          "output_type": "execute_result",
          "data": {
            "text/plain": [
              "<keras.src.callbacks.History at 0x7aac6c474d60>"
            ]
          },
          "metadata": {},
          "execution_count": 18
        }
      ]
    },
    {
      "cell_type": "code",
      "source": [
        "# Evaluate the model\n",
        "y_pred = model.predict(X_test)\n",
        "y_pred_classes = np.argmax(y_pred, axis=1)"
      ],
      "metadata": {
        "colab": {
          "base_uri": "https://localhost:8080/"
        },
        "id": "lQgDblUBWzeg",
        "outputId": "bacc930b-e808-4a2a-e700-91e3401b38ad"
      },
      "execution_count": null,
      "outputs": [
        {
          "output_type": "stream",
          "name": "stdout",
          "text": [
            "2/2 [==============================] - 1s 273ms/step\n"
          ]
        }
      ]
    },
    {
      "cell_type": "code",
      "source": [
        "print(\"\\nClassification Report:\")\n",
        "print(classification_report(y_test, y_pred_classes))"
      ],
      "metadata": {
        "colab": {
          "base_uri": "https://localhost:8080/"
        },
        "id": "gbTd6p7YWr6R",
        "outputId": "41e056e1-98e6-4f23-b572-3639c0fdd3e5"
      },
      "execution_count": null,
      "outputs": [
        {
          "output_type": "stream",
          "name": "stdout",
          "text": [
            "\n",
            "Classification Report:\n",
            "              precision    recall  f1-score   support\n",
            "\n",
            "           0       0.80      1.00      0.89        12\n",
            "           1       1.00      0.91      0.95        32\n",
            "\n",
            "    accuracy                           0.93        44\n",
            "   macro avg       0.90      0.95      0.92        44\n",
            "weighted avg       0.95      0.93      0.93        44\n",
            "\n"
          ]
        }
      ]
    },
    {
      "cell_type": "code",
      "source": [
        "print(\"\\nConfusion Matrix:\")\n",
        "print(confusion_matrix(y_test, y_pred_classes))"
      ],
      "metadata": {
        "colab": {
          "base_uri": "https://localhost:8080/"
        },
        "id": "GV84uJFyW3dC",
        "outputId": "10d55543-df43-47b6-8c0b-b0157c4139c8"
      },
      "execution_count": null,
      "outputs": [
        {
          "output_type": "stream",
          "name": "stdout",
          "text": [
            "\n",
            "Confusion Matrix:\n",
            "[[12  0]\n",
            " [ 5 27]]\n"
          ]
        }
      ]
    },
    {
      "cell_type": "code",
      "source": [
        "import matplotlib.pyplot as plt\n",
        "import seaborn as sns\n",
        "\n",
        "# Calculate the confusion matrix\n",
        "conf_mat = confusion_matrix(y_test, y_pred_classes)\n",
        "\n",
        "# Plot the confusion matrix\n",
        "plt.figure(figsize=(6, 6))\n",
        "sns.heatmap(conf_mat, annot=True, fmt='d', cmap='Blues',\n",
        "            xticklabels=['closed', 'open', 'various'],\n",
        "            yticklabels=['closed', 'open', 'various'])\n",
        "plt.xlabel('Predicted labels')\n",
        "plt.ylabel('True labels')\n",
        "plt.title('Confusion Matrix')\n",
        "plt.show()\n"
      ],
      "metadata": {
        "colab": {
          "base_uri": "https://localhost:8080/",
          "height": 564
        },
        "id": "IztXhMDsW5Ey",
        "outputId": "79ba462b-1423-4ba8-b04e-b2a5901b26b2"
      },
      "execution_count": null,
      "outputs": [
        {
          "output_type": "display_data",
          "data": {
            "text/plain": [
              "<Figure size 600x600 with 2 Axes>"
            ],
            "image/png": "[encoded data removed]"
          },
          "metadata": {}
        }
      ]
    },
    {
      "cell_type": "markdown",
      "source": [
        "# 3."
      ],
      "metadata": {
        "id": "ToZ3hlmKaXGY"
      }
    },
    {
      "cell_type": "markdown",
      "source": [
        "# VGG16 model for transfer learning"
      ],
      "metadata": {
        "id": "0kviErGqZLI3"
      }
    },
    {
      "cell_type": "code",
      "source": [
        "import os\n",
        "import cv2\n",
        "import numpy as np\n",
        "from sklearn.model_selection import train_test_split\n",
        "from sklearn.preprocessing import LabelEncoder\n",
        "from tensorflow.keras.preprocessing.image import ImageDataGenerator\n",
        "from tensorflow.keras.applications import VGG16\n",
        "from tensorflow.keras.models import Model\n",
        "from tensorflow.keras.layers import Dense, Flatten\n",
        "from tensorflow.keras.optimizers import Adam\n",
        "from sklearn.metrics import classification_report, confusion_matrix"
      ],
      "metadata": {
        "id": "th041wxTqOvl"
      },
      "execution_count": null,
      "outputs": []
    },
    {
      "cell_type": "code",
      "source": [
        "# Define the paths to the heart dataset\n",
        "data_path = \"/content/drive/MyDrive/data\"\n",
        "heart_path = os.path.join(data_path, \"heart\")\n",
        "closed_path = os.path.join(heart_path, \"closed\")\n",
        "open_path = os.path.join(heart_path, \"open\")\n",
        "various_path = os.path.join(heart_path, \"various\")\n",
        "\n",
        "# Function to load and preprocess images\n",
        "def load_and_preprocess_images(folder):\n",
        "    images = []\n",
        "    labels = []\n",
        "    for filename in os.listdir(folder):\n",
        "        img_path = os.path.join(folder, filename)\n",
        "        img = cv2.imread(img_path)\n",
        "        if img is not None:\n",
        "            img = cv2.resize(img, (224, 224))\n",
        "            img = img.astype('float32') / 255.0\n",
        "            images.append(img)\n",
        "            labels.append(os.path.basename(folder))\n",
        "    return images, labels\n"
      ],
      "metadata": {
        "id": "n7_CHR_fqOy6"
      },
      "execution_count": null,
      "outputs": []
    },
    {
      "cell_type": "code",
      "source": [
        "# Load and preprocess images from the heart folders\n",
        "closed_images, closed_labels = load_and_preprocess_images(closed_path)\n",
        "open_images, open_labels = load_and_preprocess_images(open_path)\n",
        "various_images, various_labels = load_and_preprocess_images(various_path)\n",
        "\n",
        "# Combine heart images and labels\n",
        "images = closed_images + open_images + various_images\n",
        "labels = closed_labels + open_labels + various_labels"
      ],
      "metadata": {
        "id": "iDtAYesDqO1L"
      },
      "execution_count": null,
      "outputs": []
    },
    {
      "cell_type": "code",
      "source": [
        "# Convert images and labels to NumPy arrays\n",
        "images = np.array(images)\n",
        "labels = np.array(labels)\n",
        "\n",
        "# Encode labels\n",
        "le = LabelEncoder()\n",
        "labels = le.fit_transform(labels)"
      ],
      "metadata": {
        "id": "_Sj8ailVqO4K"
      },
      "execution_count": null,
      "outputs": []
    },
    {
      "cell_type": "code",
      "source": [
        "# Split the dataset into training and testing sets\n",
        "X_train, X_test, y_train, y_test = train_test_split(images, labels, test_size=0.2, random_state=42)\n",
        "\n",
        "# Data augmentation\n",
        "datagen = ImageDataGenerator(rotation_range=20, width_shift_range=0.2, height_shift_range=0.2, shear_range=0.2, zoom_range=0.2, horizontal_flip=True, fill_mode='nearest')\n"
      ],
      "metadata": {
        "id": "ZUUd6TUrqO6d"
      },
      "execution_count": null,
      "outputs": []
    },
    {
      "cell_type": "code",
      "source": [
        "# Load the pre-trained VGG16 model without the top (fully connected) layers\n",
        "base_model = VGG16(weights='imagenet', include_top=False, input_shape=(224, 224, 3))\n",
        "\n",
        "# Freeze the convolutional base\n",
        "for layer in base_model.layers:\n",
        "    layer.trainable = False"
      ],
      "metadata": {
        "id": "gB-rj8L0qO9k"
      },
      "execution_count": null,
      "outputs": []
    },
    {
      "cell_type": "code",
      "source": [
        "# Add custom top layers for classification\n",
        "x = Flatten()(base_model.output)\n",
        "x = Dense(128, activation='relu')(x)\n",
        "output = Dense(3, activation='softmax')(x)\n",
        "\n",
        "# Create the new model\n",
        "model_transfer_learning = Model(inputs=base_model.input, outputs=output)\n",
        "\n",
        "# Compile the model\n",
        "model_transfer_learning.compile(optimizer=Adam(), loss='sparse_categorical_crossentropy', metrics=['accuracy'])"
      ],
      "metadata": {
        "id": "CxWltIbsqO_z"
      },
      "execution_count": null,
      "outputs": []
    },
    {
      "cell_type": "code",
      "source": [
        "# Train the model\n",
        "model_transfer_learning.fit(datagen.flow(X_train, y_train, batch_size=32),\n",
        "                             epochs=10,\n",
        "                             validation_data=(X_test, y_test))"
      ],
      "metadata": {
        "colab": {
          "base_uri": "https://localhost:8080/"
        },
        "id": "by97vHQFq1Kc",
        "outputId": "cf07b420-fb6d-4088-ba01-9cc39ac4df18"
      },
      "execution_count": null,
      "outputs": [
        {
          "output_type": "stream",
          "name": "stdout",
          "text": [
            "Epoch 1/10\n",
            "6/6 [==============================] - 181s 26s/step - loss: 4.0325 - accuracy: 0.4629 - val_loss: 1.5694 - val_accuracy: 0.2727\n",
            "Epoch 2/10\n",
            "6/6 [==============================] - 153s 26s/step - loss: 1.1924 - accuracy: 0.5714 - val_loss: 0.4242 - val_accuracy: 0.9545\n",
            "Epoch 3/10\n",
            "6/6 [==============================] - 149s 26s/step - loss: 0.8471 - accuracy: 0.5600 - val_loss: 0.3732 - val_accuracy: 0.8182\n",
            "Epoch 4/10\n",
            "6/6 [==============================] - 149s 26s/step - loss: 0.7986 - accuracy: 0.6571 - val_loss: 0.6965 - val_accuracy: 0.3864\n",
            "Epoch 5/10\n",
            "6/6 [==============================] - 149s 26s/step - loss: 0.7427 - accuracy: 0.7200 - val_loss: 0.2612 - val_accuracy: 0.9318\n",
            "Epoch 6/10\n",
            "6/6 [==============================] - 150s 26s/step - loss: 0.6744 - accuracy: 0.6971 - val_loss: 0.5266 - val_accuracy: 0.7500\n",
            "Epoch 7/10\n",
            "6/6 [==============================] - 149s 26s/step - loss: 0.6237 - accuracy: 0.8057 - val_loss: 0.2153 - val_accuracy: 0.9545\n",
            "Epoch 8/10\n",
            "6/6 [==============================] - 149s 28s/step - loss: 0.5191 - accuracy: 0.7943 - val_loss: 0.4456 - val_accuracy: 0.8636\n",
            "Epoch 9/10\n",
            "6/6 [==============================] - 149s 26s/step - loss: 0.4577 - accuracy: 0.8629 - val_loss: 0.1579 - val_accuracy: 0.9773\n",
            "Epoch 10/10\n",
            "6/6 [==============================] - 150s 28s/step - loss: 0.4210 - accuracy: 0.8457 - val_loss: 0.2997 - val_accuracy: 0.9318\n"
          ]
        },
        {
          "output_type": "execute_result",
          "data": {
            "text/plain": [
              "<keras.src.callbacks.History at 0x7aac6c0eea10>"
            ]
          },
          "metadata": {},
          "execution_count": 33
        }
      ]
    },
    {
      "cell_type": "code",
      "source": [
        "# Evaluate the model on the test set\n",
        "y_pred_transfer_learning = model_transfer_learning.predict(X_test)\n",
        "y_pred_classes_transfer_learning = np.argmax(y_pred_transfer_learning, axis=1)"
      ],
      "metadata": {
        "colab": {
          "base_uri": "https://localhost:8080/"
        },
        "id": "JHw49PPMq3WU",
        "outputId": "7c07dd6e-80f0-445f-f6e1-11cfa8b814ca"
      },
      "execution_count": null,
      "outputs": [
        {
          "output_type": "stream",
          "name": "stdout",
          "text": [
            "2/2 [==============================] - 27s 8s/step\n"
          ]
        }
      ]
    },
    {
      "cell_type": "code",
      "source": [
        "print(\"\\nClassification Report with Transfer Learning (VGG16):\")\n",
        "print(classification_report(y_test, y_pred_classes_transfer_learning))"
      ],
      "metadata": {
        "colab": {
          "base_uri": "https://localhost:8080/"
        },
        "id": "f5Y5_Yf6q6Qn",
        "outputId": "0175961c-dfb0-4227-dfbb-8c53e97e745c"
      },
      "execution_count": null,
      "outputs": [
        {
          "output_type": "stream",
          "name": "stdout",
          "text": [
            "\n",
            "Classification Report with Transfer Learning (VGG16):\n",
            "              precision    recall  f1-score   support\n",
            "\n",
            "           0       0.80      1.00      0.89        12\n",
            "           1       1.00      0.91      0.95        32\n",
            "\n",
            "    accuracy                           0.93        44\n",
            "   macro avg       0.90      0.95      0.92        44\n",
            "weighted avg       0.95      0.93      0.93        44\n",
            "\n"
          ]
        }
      ]
    },
    {
      "cell_type": "code",
      "source": [
        "print(\"\\nConfusion Matrix with Transfer Learning (VGG16):\")\n",
        "print(confusion_matrix(y_test, y_pred_classes_transfer_learning))\n"
      ],
      "metadata": {
        "colab": {
          "base_uri": "https://localhost:8080/"
        },
        "id": "CCbgKcsMq6Yq",
        "outputId": "f874fd0a-4c0a-4888-9883-bc57041d342b"
      },
      "execution_count": null,
      "outputs": [
        {
          "output_type": "stream",
          "name": "stdout",
          "text": [
            "\n",
            "Confusion Matrix with Transfer Learning (VGG16):\n",
            "[[12  0]\n",
            " [ 3 29]]\n"
          ]
        }
      ]
    },
    {
      "cell_type": "code",
      "source": [],
      "metadata": {
        "id": "dwg9t4urq6cE"
      },
      "execution_count": null,
      "outputs": []
    }
  ]
}